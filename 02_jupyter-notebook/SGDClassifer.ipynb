{
 "cells": [
  {
   "cell_type": "code",
   "execution_count": 11,
   "metadata": {},
   "outputs": [
    {
     "name": "stdout",
     "output_type": "stream",
     "text": [
      "Extracting MNIST_data/train-images-idx3-ubyte.gz\n",
      "Extracting MNIST_data/train-labels-idx1-ubyte.gz\n",
      "Extracting MNIST_data/t10k-images-idx3-ubyte.gz\n",
      "Extracting MNIST_data/t10k-labels-idx1-ubyte.gz\n"
     ]
    }
   ],
   "source": [
    "from sklearn.linear_model import SGDClassifier\n",
    "import numpy as np\n",
    "from sklearn.datasets import load_digits\n",
    "import matplotlib.pyplot as plt \n",
    "from sklearn.model_selection import train_test_split, GridSearchCV, validation_curve\n",
    "import time\n",
    "import tensorflow as tf\n",
    "%matplotlib inline\n",
    "\n",
    "# import MNIST data\n",
    "from tensorflow.examples.tutorials.mnist import input_data\n",
    "mnist = input_data.read_data_sets(\"MNIST_data/\", one_hot=False)"
   ]
  },
  {
   "cell_type": "code",
   "execution_count": 12,
   "metadata": {},
   "outputs": [
    {
     "data": {
      "text/plain": [
       "(55000, 784)"
      ]
     },
     "execution_count": 12,
     "metadata": {},
     "output_type": "execute_result"
    }
   ],
   "source": [
    "mnist.train.images.shape"
   ]
  },
  {
   "cell_type": "code",
   "execution_count": 13,
   "metadata": {
    "collapsed": true
   },
   "outputs": [],
   "source": [
    "X_train = mnist.train.images\n",
    "X_test = mnist.test.images\n",
    "y_train = mnist.train.labels\n",
    "y_test = mnist.test.labels"
   ]
  },
  {
   "cell_type": "code",
   "execution_count": 14,
   "metadata": {},
   "outputs": [
    {
     "data": {
      "text/plain": [
       "array([7, 3, 4, ..., 5, 6, 8], dtype=uint8)"
      ]
     },
     "execution_count": 14,
     "metadata": {},
     "output_type": "execute_result"
    }
   ],
   "source": [
    "y_train"
   ]
  },
  {
   "cell_type": "code",
   "execution_count": 20,
   "metadata": {
    "collapsed": true
   },
   "outputs": [],
   "source": [
    "sgd = SGDClassifier(max_iter = 100, loss = 'log', \n",
    "                   penalty='none', tol=1e-3, n_jobs=-1)\n",
    "#grid search eta0 \n",
    "parameters = {'eta0': [0.001, 0.0001, 0.01, 0.1, 1, 10],  \n",
    "                  'learning_rate': ['constant']}\n",
    "clf = GridSearchCV(sgd, parameters, cv=5)"
   ]
  },
  {
   "cell_type": "code",
   "execution_count": 21,
   "metadata": {},
   "outputs": [
    {
     "name": "stdout",
     "output_type": "stream",
     "text": [
      "{'eta0': 0.01, 'learning_rate': 'constant'}\n"
     ]
    }
   ],
   "source": [
    "clf.fit(X_test, y_test)\n",
    "print(clf.best_params_) #'eta0': 0.01, 'learning_rate': 'constant'"
   ]
  },
  {
   "cell_type": "code",
   "execution_count": 17,
   "metadata": {},
   "outputs": [
    {
     "data": {
      "text/plain": [
       "0.93210000000000004"
      ]
     },
     "execution_count": 17,
     "metadata": {},
     "output_type": "execute_result"
    }
   ],
   "source": [
    "clf.score(X_test, y_test)"
   ]
  },
  {
   "cell_type": "code",
   "execution_count": 18,
   "metadata": {
    "collapsed": true
   },
   "outputs": [],
   "source": [
    "sgd_best = SGDClassifier(loss = 'log',penalty='none', tol=1e-3, \n",
    "                         eta0=0.01, learning_rate='constant')"
   ]
  },
  {
   "cell_type": "code",
   "execution_count": 19,
   "metadata": {},
   "outputs": [
    {
     "name": "stderr",
     "output_type": "stream",
     "text": [
      "/home/mobeiusprime/anaconda3/lib/python3.6/site-packages/sklearn/linear_model/stochastic_gradient.py:451: ConvergenceWarning: Maximum number of iteration reached before convergence. Consider increasing max_iter to improve the fit.\n",
      "  ConvergenceWarning)\n",
      "/home/mobeiusprime/anaconda3/lib/python3.6/site-packages/sklearn/linear_model/stochastic_gradient.py:451: ConvergenceWarning: Maximum number of iteration reached before convergence. Consider increasing max_iter to improve the fit.\n",
      "  ConvergenceWarning)\n",
      "/home/mobeiusprime/anaconda3/lib/python3.6/site-packages/sklearn/linear_model/stochastic_gradient.py:451: ConvergenceWarning: Maximum number of iteration reached before convergence. Consider increasing max_iter to improve the fit.\n",
      "  ConvergenceWarning)\n",
      "/home/mobeiusprime/anaconda3/lib/python3.6/site-packages/sklearn/linear_model/stochastic_gradient.py:451: ConvergenceWarning: Maximum number of iteration reached before convergence. Consider increasing max_iter to improve the fit.\n",
      "  ConvergenceWarning)\n",
      "/home/mobeiusprime/anaconda3/lib/python3.6/site-packages/sklearn/linear_model/stochastic_gradient.py:451: ConvergenceWarning: Maximum number of iteration reached before convergence. Consider increasing max_iter to improve the fit.\n",
      "  ConvergenceWarning)\n"
     ]
    }
   ],
   "source": [
    "param_range = np.logspace(0, 2, 10)\n",
    "train_scores, test_scores = validation_curve(sgd_best, \n",
    "            X_train, y_train, param_name = \"max_iter\", param_range = param_range, \n",
    "            cv=5, scoring=\"accuracy\", n_jobs=-1)"
   ]
  },
  {
   "cell_type": "code",
   "execution_count": 22,
   "metadata": {
    "collapsed": true
   },
   "outputs": [],
   "source": [
    "train_scores_mean = np.mean(train_scores, axis=1)\n",
    "val_scores_mean = np.mean(test_scores, axis=1)"
   ]
  },
  {
   "cell_type": "code",
   "execution_count": 37,
   "metadata": {},
   "outputs": [
    {
     "data": {
      "image/png": "[encoded data removed]",
      "text/plain": [
       "<matplotlib.figure.Figure at 0x7f8b242d0048>"
      ]
     },
     "metadata": {},
     "output_type": "display_data"
    }
   ],
   "source": [
    "# Confusion Matrix and Training Speed (time and iteration)\n",
    "plt.title(\"Validation Curve with SGDClassifier\")\n",
    "plt.xlabel(\"Iteration\")\n",
    "plt.ylabel(\"Accuracy\")\n",
    "plt.ylim(0.899, 0.92)\n",
    "plt.semilogx(param_range, train_scores_mean, label=\"Training Score\", color=\"green\")\n",
    "plt.semilogx(param_range, val_scores_mean, label=\"Valiation Score\", color=\"orange\")\n",
    "plt.legend(loc=\"best\")\n",
    "plt.rcParams[\"figure.figsize\"] = [5, 8]\n",
    "plt.show()"
   ]
  },
  {
   "cell_type": "code",
   "execution_count": 48,
   "metadata": {},
   "outputs": [
    {
     "name": "stderr",
     "output_type": "stream",
     "text": [
      "/home/mobeiusprime/anaconda3/lib/python3.6/site-packages/sklearn/linear_model/stochastic_gradient.py:451: ConvergenceWarning: Maximum number of iteration reached before convergence. Consider increasing max_iter to improve the fit.\n",
      "  ConvergenceWarning)\n"
     ]
    },
    {
     "name": "stdout",
     "output_type": "stream",
     "text": [
      "[1.4340765476226807, 1.3497483730316162, 3.3839921951293945, 6.247416257858276, 12.372493743896484, 24.424023866653442, 39.409475326538086, 42.036707401275635, 44.11540341377258, 41.55750250816345]\n",
      "\n",
      "[0.88454545454545452, 0.88492727272727267, 0.8996909090909091, 0.90736363636363637, 0.91223636363636362, 0.9166545454545455, 0.92000000000000004, 0.91879999999999995, 0.92012727272727268, 0.91969090909090911]\n",
      "\n",
      "[0.89349999999999996, 0.89459999999999995, 0.90659999999999996, 0.91349999999999998, 0.91490000000000005, 0.9173, 0.91890000000000005, 0.91739999999999999, 0.91910000000000003, 0.91869999999999996]\n"
     ]
    }
   ],
   "source": [
    "param_range = np.logspace(0, 2.5, 10)\n",
    "times = [] \n",
    "train_scores = [] \n",
    "test_scores = [] \n",
    "for iteration in param_range: \n",
    "    sgd_temp = SGDClassifier(loss = 'log',penalty='none', tol=0, eta0=0.001, learning_rate='constant', max_iter = iteration)\n",
    "    start = time.time()\n",
    "    sgd_temp.fit(X_train, y_train)\n",
    "    train_scores.append(sgd_temp.score(X_train, y_train))\n",
    "    test_scores.append(sgd_temp.score(X_test, y_test))\n",
    "    times.append(time.time()-start)\n",
    "    \n",
    "print(times) \n",
    "print(\"\")\n",
    "print(train_scores)\n",
    "print(\"\")\n",
    "print(test_scores)"
   ]
  },
  {
   "cell_type": "code",
   "execution_count": 49,
   "metadata": {},
   "outputs": [
    {
     "data": {
      "text/plain": [
       "array([   1.        ,    1.89573565,    3.59381366,    6.81292069,\n",
       "         12.91549665,   24.48436747,   46.41588834,   87.99225436,\n",
       "        166.81005372,  316.22776602])"
      ]
     },
     "execution_count": 49,
     "metadata": {},
     "output_type": "execute_result"
    }
   ],
   "source": [
    "param_range"
   ]
  },
  {
   "cell_type": "code",
   "execution_count": 50,
   "metadata": {},
   "outputs": [
    {
     "data": {
      "image/png": "[encoded data removed]",
      "text/plain": [
       "<matplotlib.figure.Figure at 0x7f8b244b31d0>"
      ]
     },
     "metadata": {},
     "output_type": "display_data"
    }
   ],
   "source": [
    "plt.title(\"Training Time to Iteration\")\n",
    "plt.xlabel(\"Max Iterations\")\n",
    "plt.ylabel(\"Time\")\n",
    "plt.semilogx(param_range, times, color=\"green\")\n",
    "plt.legend(loc=\"best\")\n",
    "plt.rcParams[\"figure.figsize\"] = [5, 8]\n",
    "plt.show()"
   ]
  },
  {
   "cell_type": "code",
   "execution_count": null,
   "metadata": {
    "collapsed": true
   },
   "outputs": [],
   "source": []
  }
 ],
 "metadata": {
  "kernelspec": {
   "display_name": "Python 3",
   "language": "python",
   "name": "python3"
  },
  "language_info": {
   "codemirror_mode": {
    "name": "ipython",
    "version": 3
   },
   "file_extension": ".py",
   "mimetype": "text/x-python",
   "name": "python",
   "nbconvert_exporter": "python",
   "pygments_lexer": "ipython3",
   "version": "3.6.3"
  }
 },
 "nbformat": 4,
 "nbformat_minor": 2
}
